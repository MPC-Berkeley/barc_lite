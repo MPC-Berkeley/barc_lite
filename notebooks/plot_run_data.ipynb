{
 "cells": [
  {
   "cell_type": "code",
   "execution_count": null,
   "id": "protective-integer",
   "metadata": {},
   "outputs": [],
   "source": [
    "import numpy as np\n",
    "import scipy as sp\n",
    "import casadi as ca\n",
    "\n",
    "# %matplotlib qt\n",
    "import matplotlib.pyplot as plt\n",
    "\n",
    "import os, copy"
   ]
  },
  {
   "cell_type": "code",
   "execution_count": null,
   "id": "dominican-salad",
   "metadata": {},
   "outputs": [],
   "source": [
    "# Import utility for unpacking rosbags\n",
    "from mpclab_common.rosbag_utils import rosbagData\n",
    "\n",
    "# Data is saved in /data by default, change the following to the name of the directory where the data was saved\n",
    "db_dir = 'barc_sim_pid_12-22-2022_12-40-53'\n",
    "\n",
    "db_file = db_dir + '_0.db3'\n",
    "rosbag_path = os.path.join('/data', db_dir, db_file)\n",
    "rb_data = rosbagData(rosbag_path)"
   ]
  },
  {
   "cell_type": "code",
   "execution_count": null,
   "id": "published-guest",
   "metadata": {},
   "outputs": [],
   "source": [
    "from mpclab_common.track import get_track\n",
    "\n",
    "# Unpack data into a list of dictionaries\n",
    "state_input_raw = rb_data.read_from_topic_to_dict('/experiment/barc_1/state_input_log')\n",
    "\n",
    "t = []\n",
    "x = []\n",
    "y = []\n",
    "vx = []\n",
    "vy = []\n",
    "ua = []\n",
    "us = []\n",
    "for s in state_input_raw:\n",
    "    t.append(s['t']) # Time\n",
    "    x.append(s['x']['x']) # Global x\n",
    "    y.append(s['x']['y']) # Global y\n",
    "    vx.append(s['v']['v_long']) # Longitudinal velocity\n",
    "    vy.append(s['v']['v_tran']) # Lateral velocity\n",
    "    ua.append(s['u']['u_a']) # Acceleration\n",
    "    us.append(s['u']['u_steer']) # Steering\n",
    "\n",
    "track = get_track('L_track_barc')\n",
    "\n",
    "fig_xy = plt.figure(figsize=(15, 20))\n",
    "ax = fig_xy.gca()\n",
    "track.plot_map(ax) # Plot track\n",
    "ax.plot(x, y) # Plot x-y trace\n",
    "ax.set_aspect('equal')\n",
    "\n",
    "fig_qu = plt.figure(figsize=(15, 20))\n",
    "ax_vx = fig_qu.add_subplot(4,1,1)\n",
    "ax_vx.plot(t, vx, 'b')\n",
    "ax_vx.set_ylabel('vx')\n",
    "ax_vy = fig_qu.add_subplot(4,1,2)\n",
    "ax_vy.plot(t, vy, 'b')\n",
    "ax_vy.set_ylabel('vy')\n",
    "ua_ax = fig_qu.add_subplot(4,1,3)\n",
    "ua_ax.plot(t, ua, 'b')\n",
    "ua_ax.set_ylabel('accel')\n",
    "us_ay = fig_qu.add_subplot(4,1,4)\n",
    "us_ay.plot(t, us, 'b')\n",
    "us_ay.set_ylabel('steer')"
   ]
  },
  {
   "cell_type": "code",
   "execution_count": null,
   "id": "defensive-occasion",
   "metadata": {},
   "outputs": [],
   "source": []
  }
 ],
 "metadata": {
  "kernelspec": {
   "display_name": "Python 3",
   "language": "python",
   "name": "python3"
  },
  "language_info": {
   "codemirror_mode": {
    "name": "ipython",
    "version": 3
   },
   "file_extension": ".py",
   "mimetype": "text/x-python",
   "name": "python",
   "nbconvert_exporter": "python",
   "pygments_lexer": "ipython3",
   "version": "3.8.10"
  },
  "vscode": {
   "interpreter": {
    "hash": "31f2aee4e71d21fbe5cf8b01ff0e069b9275f58929596ceb00d14d90e3e16cd6"
   }
  }
 },
 "nbformat": 4,
 "nbformat_minor": 5
}
